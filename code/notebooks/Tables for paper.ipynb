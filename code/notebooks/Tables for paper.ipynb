{
 "cells": [
  {
   "cell_type": "code",
   "execution_count": 47,
   "metadata": {
    "collapsed": false
   },
   "outputs": [],
   "source": [
    "%matplotlib inline\n",
    "import sys\n",
    "sys.path.append(\"../code/\")\n",
    "\n",
    "import config\n",
    "\n",
    "#import igraph\n",
    "import matplotlib.pyplot as plt\n",
    "import numpy  as np\n",
    "import pandas as pd\n",
    "import seaborn as sns\n",
    "\n",
    "import data_analysis_for_paper as dafp\n",
    "\n",
    "sns.set_context(\"paper\")\n",
    "sns.set_style(\"ticks\")\n",
    "\n",
    "from collections import defaultdict\n",
    "current_pal = sns.color_palette()\n",
    "\n",
    "#%%\n",
    "def percentile(n):\n",
    "    def percentile_(x):\n",
    "        return np.percentile(x, n)\n",
    "    percentile_.__name__ = '%s%%' % n\n",
    "    return percentile_\n",
    "\n",
    "clean_lang = lambda x: x.replace(\"MergedCl\",\"\").replace(\"Cl\",\"\")\n",
    "\n"
   ]
  },
  {
   "cell_type": "code",
   "execution_count": 7,
   "metadata": {
    "collapsed": false
   },
   "outputs": [
    {
     "name": "stdout",
     "output_type": "stream",
     "text": [
      "Rust\n",
      "JSCl\n",
      "RubyMergedCl\n"
     ]
    },
    {
     "name": "stderr",
     "output_type": "stream",
     "text": [
      "/home/kikas/anaconda/lib/python2.7/site-packages/IPython/core/interactiveshell.py:2717: DtypeWarning: Columns (2) have mixed types. Specify dtype option on import or set low_memory=False.\n",
      "  interactivity=interactivity, compiler=compiler, result=result)\n"
     ]
    }
   ],
   "source": [
    "#%%\n",
    "LANG_ORDER = [\"Rust\",\"JSCl\",\"RubyMergedCl\"]\n",
    "\n",
    "DATASETS = {}\n",
    "\n",
    "for lang in LANG_ORDER:\n",
    "    print lang\n",
    "\n",
    "    adoption_file = config.FINAL_DATA+\"cleaned_{0}_adoption_final.csv\"\n",
    "    release_file = config.FINAL_DATA+\"cleaned_{0}_release_final.csv\"\n",
    "    opts = {\"na_filter\": False}\n",
    "    #%%\n",
    "\n",
    "    df_adoption =  pd.read_csv(adoption_file.format(lang), **opts)\n",
    "    df_release =  pd.read_csv(release_file.format(lang), **opts)\n",
    "\n",
    "    df_fixed = pd.read_csv(\"../data/working/fixed_adopted_{0}_meta.csv\".format(lang), sep=\"\\t\",**opts)\n",
    "    df_fixed.loc[pd.isnull(df_fixed.orig_ver_string), \"orig_ver_string\"] = \"\"\n",
    "\n",
    "    #%%\n",
    "\n",
    "    df_fixed = df_fixed[df_fixed.commit_ts <= 1459468800]\n",
    "    df_fixed = df_fixed[df_fixed.release_ts_y <= 1459468800]\n",
    "\n",
    "    df_adoption = df_adoption[df_adoption.commit_ts <= 1459468800]\n",
    "    df_release = df_release[df_release.release_ts <= 1459468800]\n",
    "\n",
    "\n",
    "    df_fixed.loc[:,\"commit_ts\"] = pd.to_datetime(df_fixed.commit_ts, unit=\"s\")\n",
    "    df_fixed.loc[:,\"release_ts_y\"] = pd.to_datetime(df_fixed.release_ts_y, unit=\"s\")\n",
    "    df_adoption.loc[:,\"commit_ts\"] = pd.to_datetime(df_adoption.commit_ts, unit=\"s\")\n",
    "    df_release.loc[:,\"release_ts\"] = pd.to_datetime( df_release.release_ts, unit=\"s\")\n",
    "    \n",
    "    DATASETS[lang] = (df_fixed, df_adoption, df_release)"
   ]
  },
  {
   "cell_type": "code",
   "execution_count": 42,
   "metadata": {
    "collapsed": false
   },
   "outputs": [
    {
     "name": "stdout",
     "output_type": "stream",
     "text": [
      "\n",
      "Lang Rust\n",
      "\n",
      "Published projects 11037\n",
      "non-Published projects 0\n",
      "\n",
      "All initial sample 11037\n",
      "\n",
      "Lang JSCl\n",
      "\n",
      "Published projects 254466\n",
      "non-Published projects 84987\n",
      "\n",
      "All initial sample 339453\n",
      "\n",
      "Lang RubyMergedCl\n",
      "\n",
      "Published projects 122786\n",
      "non-Published projects 62133\n",
      "\n",
      "All initial sample 184994\n"
     ]
    }
   ],
   "source": [
    "general_df = []\n",
    "for lang in LANG_ORDER:\n",
    "    lang_ = lang.replace(\"MergedCl\",\"\").replace(\"Cl\",\"\")\n",
    "    (df_fixed, df_adoption, df_release) =   DATASETS[lang] \n",
    "\n",
    "    print \"\\nLang\", lang\n",
    "\n",
    "    rename_rules = {\"adopted_name\":\"project_name\", \"adopted_github\":\"project_github\"}\n",
    "\n",
    "    no_pub = df_release.query(\"is_published==1\")[[\"project_name\", \"project_github\"]].drop_duplicates().shape[0]\n",
    "    \n",
    "    no_gh_ = df_release.query(\"is_published==0\")[[\"project_name\", \"project_github\"]].drop_duplicates()\n",
    "    no_gh2_ =  df_fixed.query(\"is_published==0\")[[\"project_name\", \"project_github\"]].drop_duplicates()\n",
    "    \n",
    "    no_gh = pd.concat((no_gh_, no_gh2_)).drop_duplicates().shape[0]\n",
    "    \n",
    "    print \"\\nPublished projects\", no_pub\n",
    "    print \"non-Published projects\",no_gh\n",
    "    #print \"\\nadoption projects\", df_adoption[[\"project_name\", \"project_github\"]].drop_duplicates().shape\n",
    "\n",
    "\n",
    "    uniq_dep = df_fixed[[\"project_name\", \"project_github\"]].drop_duplicates()\n",
    "    uniq_dep_adopt = df_fixed[[\"adopted_name\", \"adopted_github\"]].drop_duplicates().rename(columns=rename_rules)\n",
    "    \n",
    "    no_total =  pd.concat([df_adoption[[\"project_name\", \"project_github\"]], df_release[[\"project_name\", \"project_github\"]],uniq_dep_adopt,   uniq_dep]).drop_duplicates().shape[0]\n",
    "\n",
    "    print \"\\nAll initial sample\",no_total\n",
    "    general_df.append([lang_, no_total, no_pub, no_gh])"
   ]
  },
  {
   "cell_type": "code",
   "execution_count": 44,
   "metadata": {
    "collapsed": false
   },
   "outputs": [
    {
     "name": "stdout",
     "output_type": "stream",
     "text": [
      "   lang   total  published  github\n",
      "0  Rust   11037      11037       0\n",
      "1    JS  339453     254466   84987\n",
      "2  Ruby  184994     122786   62133\n"
     ]
    }
   ],
   "source": [
    "general_stats = pd.DataFrame.from_records(general_df,columns=[\"lang\", \"total\", \"published\",\"github\"])\n",
    "print general_stats"
   ]
  },
  {
   "cell_type": "code",
   "execution_count": 13,
   "metadata": {
    "collapsed": false,
    "scrolled": true
   },
   "outputs": [
    {
     "name": "stdout",
     "output_type": "stream",
     "text": [
      "\n",
      "Lang Rust\n",
      "\n",
      "Published projects 11037\n",
      "non-Published projects 0\n",
      "\n",
      "All initial sample 11037\n",
      "    explicit   implicit   label  lang\n",
      "0   1.000000   1.000000     min  Rust\n",
      "1   1.000000   1.000000      5p  Rust\n",
      "2   1.192546   1.441691    mean  Rust\n",
      "3   1.000000   1.000000  median  Rust\n",
      "4   2.000000   4.000000     95p  Rust\n",
      "5  62.000000  63.000000     max  Rust\n",
      "\n",
      "Lang JSCl\n",
      "\n",
      "Published projects 254466\n",
      "non-Published projects 84987\n",
      "\n",
      "All initial sample 339453\n",
      "     explicit   implicit   label lang\n",
      "0    1.000000    1.00000     min   JS\n",
      "1    1.000000    1.00000      5p   JS\n",
      "2    1.250843    1.46833    mean   JS\n",
      "3    1.000000    1.00000  median   JS\n",
      "4    2.000000    4.00000     95p   JS\n",
      "5  253.000000  280.00000     max   JS\n",
      "\n",
      "Lang RubyMergedCl\n",
      "\n",
      "Published projects 122786\n",
      "non-Published projects 0\n",
      "\n",
      "All initial sample 184994\n",
      "     explicit    implicit   label  lang\n",
      "0    1.000000    1.000000     min  Ruby\n",
      "1    1.000000    1.000000      5p  Ruby\n",
      "2    1.282047    1.981791    mean  Ruby\n",
      "3    1.000000    1.000000  median  Ruby\n",
      "4    2.000000    6.000000     95p  Ruby\n",
      "5  343.000000  344.000000     max  Ruby\n"
     ]
    }
   ],
   "source": [
    "#eg_evo, ver_evo = dafp.get_evo_data(lang)\n",
    "summary_df = []\n",
    "\n",
    "for lang in LANG_ORDER:\n",
    "    lang_ = lang.replace(\"MergedCl\",\"\").replace(\"Cl\",\"\")\n",
    "    (df_fixed, df_adoption, df_release) =   DATASETS[lang] \n",
    "\n",
    "    print \"\\nLang\", lang\n",
    "\n",
    "    rename_rules = {\"adopted_name\":\"project_name\", \"adopted_github\":\"project_github\"}\n",
    "\n",
    "\n",
    "    #print \"total projects net\", pd.concat([uniq_dep, uniq_dep_adopt]).drop_duplicates().shape\n",
    "    #print \"unique adopted projects net\", uniq_dep_adopt.shape\n",
    "    #print \"projects that have dependencies net\", uniq_dep.shape\n",
    "\n",
    "\n",
    "    #rename_rules[\"adopted_ver\"] = \"project_ver\"\n",
    "    #concs =  pd.concat([df_fixed[[\"project_name\", \"project_github\", \"project_ver\"]], df_fixed[[\"adopted_name\", \"adopted_github\", \"adopted_ver\"]].rename(columns=rename_rules)])\n",
    "    #print \"\\nProject in the graph\",concs.drop_duplicates().shape\n",
    "\n",
    "\n",
    "\n",
    "    funcs =  [np.min, percentile(5), np.mean, np.median,percentile(95),np.max  ]\n",
    "    lbls = [\"min\",\"5p\",\"mean\",\"median\",\"95p\",\"max\"]\n",
    "    #vers1 =  df_fixed[[\"project_name\", \"project_github\", \"project_ver\", \"adopted_github\"]].groupby([\"project_name\", \"project_github\", \"project_ver\"]).agg({\"adopted_github\":lambda x: len(x.unique())}).reset_index()\n",
    "    #deps_per_ver = [fn(vers1[\"adopted_github\"].values) for fn in funcs]\n",
    "\n",
    "    vers1 =  df_fixed[[\"project_name\", \"project_github\", \"adopted_github\", \"adopted_ver\"]].groupby([\"project_github\",  \"adopted_github\"]).agg({\"adopted_ver\":lambda x: len(x.unique())}).reset_index()\n",
    "    implicit = [fn(vers1[\"adopted_ver\"].values) for fn in funcs]\n",
    "    vers1 =  df_fixed[[\"project_name\", \"project_github\", \"adopted_github\", \"orig_ver_string\"]].groupby([ \"project_github\",  \"adopted_github\"]).agg({\"orig_ver_string\":lambda x: len(x.unique())}).reset_index()\n",
    "    explicit = [fn(vers1[\"orig_ver_string\"].values) for fn in funcs]\n",
    "\n",
    "    df_stats =  pd.DataFrame({\"label\":lbls, \"implicit\":implicit, \"explicit\":explicit})\n",
    "    df_stats.loc[:,\"lang\"] = lang_\n",
    "    summary_df.append(df_stats)\n",
    "    print df_stats\n",
    "\n",
    "    \n",
    "    #uniq_dep_adopt = df_fixed[[\"adopted_name\", \"adopted_github\", \"adopted_ver\"]].drop_duplicates()\n",
    "    #print \"\\ntotal project, versions ever adopted\", uniq_dep_adopt.shape\n",
    "    #print \"\\ntotal adoptions, vernode links\", df_fixed.shape[0]\n",
    "\n",
    "    #last_month = \"2016-04-01\"\n",
    "    #uniq_dep_adopt = df_fixed[df_fixed.commit_ts > last_month][[\"adopted_name\", \"adopted_github\", \"adopted_ver\"]].drop_duplicates()\n",
    "\n",
    "    #print \"\\nversions active during last month\", uniq_dep_adopt.shape"
   ]
  },
  {
   "cell_type": "code",
   "execution_count": 16,
   "metadata": {
    "collapsed": false
   },
   "outputs": [],
   "source": [
    "updates_df = pd.concat(summary_df)\n",
    "\n",
    "updates_df.to_csv(\"../paper/tables/update_counts.csv\", index=None)"
   ]
  },
  {
   "cell_type": "code",
   "execution_count": 26,
   "metadata": {
    "collapsed": false
   },
   "outputs": [
    {
     "name": "stdout",
     "output_type": "stream",
     "text": [
      "      explicit                                   implicit              \\\n",
      "label       5p  95p    max      mean median  min       5p  95p    max   \n",
      "lang                                                                    \n",
      "JS         1.0  2.0  253.0  1.250843    1.0  1.0      1.0  4.0  280.0   \n",
      "Ruby       1.0  2.0  343.0  1.282047    1.0  1.0      1.0  6.0  344.0   \n",
      "Rust       1.0  2.0   62.0  1.192546    1.0  1.0      1.0  4.0   63.0   \n",
      "\n",
      "                             \n",
      "label      mean median  min  \n",
      "lang                         \n",
      "JS     1.468330    1.0  1.0  \n",
      "Ruby   1.981791    1.0  1.0  \n",
      "Rust   1.441691    1.0  1.0  \n"
     ]
    }
   ],
   "source": [
    "pivoted = pd.pivot_table(updates_df, index=\"lang\", columns=\"label\")\n",
    "\n",
    "print pivoted\n",
    "\n",
    "mi = pd.MultiIndex.from_product([['explicit', 'implicit'], ['min','5p','median','mean', '95p','max']])\n",
    "\n",
    "pivoted_order = pivoted.reindex_axis(mi, 1)\n",
    "\n",
    "\n",
    "with open(\"../paper/tables/update.tex\",\"w\") as fp:\n",
    "    fp.write(pivoted_order.to_latex(float_format='%.2f'))\n"
   ]
  },
  {
   "cell_type": "code",
   "execution_count": 38,
   "metadata": {
    "collapsed": false
   },
   "outputs": [],
   "source": [
    "stacked = pd.pivot_table(pd.melt(updates_df,id_vars=[\"lang\",\"label\"]), index=[\"variable\",\"lang\"], columns=\"label\")\n",
    "mi2 = pd.MultiIndex.from_product([['value'], ['min','5p','median','mean', '95p','max']])\n",
    "stacked = stacked.reindex_axis(mi2,1)\n",
    "stacked\n",
    "with open(\"../paper/tables/update_stacked.tex\",\"w\") as fp:\n",
    "    fp.write(stacked.to_latex(float_format='%.2f'))"
   ]
  },
  {
   "cell_type": "markdown",
   "metadata": {},
   "source": [
    "# TOTAL GRAPH"
   ]
  },
  {
   "cell_type": "code",
   "execution_count": 75,
   "metadata": {
    "collapsed": false
   },
   "outputs": [
    {
     "name": "stderr",
     "output_type": "stream",
     "text": [
      "2016-10-15 14:56:46,542 - INFO - Entering get_evo_data:lang='Rust'\n",
      "2016-10-15 14:56:46,574 - INFO - Exiting get_evo_data:lang='Rust', took 0.029 s\n",
      "/gfs22/biit/home/kikas/anaconda/lib/python2.7/site-packages/ipykernel/__main__.py:6: FutureWarning: sort(columns=....) is deprecated, use sort_values(by=.....)\n",
      "/gfs22/biit/home/kikas/anaconda/lib/python2.7/site-packages/ipykernel/__main__.py:8: FutureWarning: sort(columns=....) is deprecated, use sort_values(by=.....)\n",
      "2016-10-15 14:56:46,593 - INFO - Entering get_evo_data:lang='JS'\n",
      "2016-10-15 14:56:46,622 - INFO - Exiting get_evo_data:lang='JS', took 0.028 s\n",
      "2016-10-15 14:56:46,639 - INFO - Entering get_evo_data:lang='Ruby'\n",
      "2016-10-15 14:56:46,672 - INFO - Exiting get_evo_data:lang='Ruby', took 0.031 s\n"
     ]
    }
   ],
   "source": [
    "\n",
    "rows = []\n",
    "for lang_ in LANG_ORDER:\n",
    "    lang = clean_lang(lang_)\n",
    "    re, ve = dafp.get_evo_data(lang)\n",
    "    last_v =  re.sort(\"date\").tail(1)[[\"nodes\",\"unique_relations\",\"github_nodes\",\"published_nodes\"]]\n",
    "    last_v = last_v.rename(columns={\"nodes\":\"projects\",\"unique_relations\":\"project_depedencies\"})\n",
    "    last_r = ve.sort(\"date\").tail(1)[[\"nodes\",\"version_relations\"]]\n",
    "    last_r = last_r.rename(columns={\"nodes\":\"releases\",\"version_relations\":\"release_dependencies\"})\n",
    "    \n",
    "    row =  pd.concat((last_v, last_r), axis=1)\n",
    "    if lang == \"Rust\":\n",
    "        row.loc[:,\"published_nodes\"] = row.loc[:,\"projects\"]\n",
    "        row.loc[:,\"github_nodes\"] = 0\n",
    "    row.loc[:,\"lang\"] = lang\n",
    "    rows.append(row)\n",
    "    \n",
    "totals = pd.concat(rows).set_index(\"lang\")"
   ]
  },
  {
   "cell_type": "code",
   "execution_count": 76,
   "metadata": {
    "collapsed": false
   },
   "outputs": [
    {
     "name": "stdout",
     "output_type": "stream",
     "text": [
      "      projects  project_depedencies  github_nodes  published_nodes  releases  \\\n",
      "lang                                                                           \n",
      "Rust      7978                25144             0             7978     22105   \n",
      "JS      246670              1182114         78657           168013   1319919   \n",
      "Ruby    147449               776061         69544            77905   1231480   \n",
      "\n",
      "      release_dependencies  \n",
      "lang                        \n",
      "Rust                 66055  \n",
      "JS                 7260426  \n",
      "Ruby              10747737  \n",
      "   lang   total  published  github\n",
      "0  Rust   11037      11037       0\n",
      "1    JS  339453     254466   84987\n",
      "2  Ruby  184994     122786   62133\n"
     ]
    }
   ],
   "source": [
    "print totals\n",
    "\n",
    "print general_stats\n",
    "\n",
    "totals2 = pd.merge(totals, general_stats.set_index(\"lang\")[[\"github\",\"published\"]], left_index=True, right_index=True)"
   ]
  },
  {
   "cell_type": "code",
   "execution_count": 77,
   "metadata": {
    "collapsed": false
   },
   "outputs": [
    {
     "name": "stdout",
     "output_type": "stream",
     "text": [
      "\\begin{tabular}{lrrrrrrrr}\n",
      "\\toprule\n",
      "{} &  projects &  project\\_depedencies &  github\\_nodes &  published\\_nodes &  releases &  release\\_dependencies &  github &  published \\\\\n",
      "lang &           &                      &               &                  &           &                       &         &            \\\\\n",
      "\\midrule\n",
      "Rust &     7,978 &               25,144 &             0 &            7,978 &    22,105 &                66,055 &       0 &     11,037 \\\\\n",
      "JS   &   246,670 &            1,182,114 &        78,657 &          168,013 & 1,319,919 &             7,260,426 &  84,987 &    254,466 \\\\\n",
      "Ruby &   147,449 &              776,061 &        69,544 &           77,905 & 1,231,480 &            10,747,737 &  62,133 &    122,786 \\\\\n",
      "\\bottomrule\n",
      "\\end{tabular}\n",
      "\n"
     ]
    }
   ],
   "source": [
    "\n",
    "ltable = (totals2*1.0).to_latex(float_format=lambda x:  '{:,.0f}'.format(x))\n",
    "print ltable\n",
    "\n",
    "with open(\"../paper/tables/general_stat.tex\",\"w\") as fp:\n",
    "    fp.write(ltable)"
   ]
  },
  {
   "cell_type": "code",
   "execution_count": 71,
   "metadata": {
    "collapsed": false
   },
   "outputs": [
    {
     "data": {
      "text/html": [
       "<div>\n",
       "<table border=\"1\" class=\"dataframe\">\n",
       "  <thead>\n",
       "    <tr style=\"text-align: right;\">\n",
       "      <th></th>\n",
       "      <th>projects</th>\n",
       "      <th>project_depedencies</th>\n",
       "      <th>github_nodes</th>\n",
       "      <th>published_nodes</th>\n",
       "      <th>releases</th>\n",
       "      <th>release_dependencies</th>\n",
       "      <th>github_nodes</th>\n",
       "      <th>published_nodes</th>\n",
       "      <th>github</th>\n",
       "      <th>published</th>\n",
       "    </tr>\n",
       "    <tr>\n",
       "      <th>lang</th>\n",
       "      <th></th>\n",
       "      <th></th>\n",
       "      <th></th>\n",
       "      <th></th>\n",
       "      <th></th>\n",
       "      <th></th>\n",
       "      <th></th>\n",
       "      <th></th>\n",
       "      <th></th>\n",
       "      <th></th>\n",
       "    </tr>\n",
       "  </thead>\n",
       "  <tbody>\n",
       "    <tr>\n",
       "      <th>Rust</th>\n",
       "      <td>7978</td>\n",
       "      <td>25144</td>\n",
       "      <td>0</td>\n",
       "      <td>7978</td>\n",
       "      <td>22105</td>\n",
       "      <td>66055</td>\n",
       "      <td>0</td>\n",
       "      <td>7978</td>\n",
       "      <td>0</td>\n",
       "      <td>11037</td>\n",
       "    </tr>\n",
       "    <tr>\n",
       "      <th>JS</th>\n",
       "      <td>246670</td>\n",
       "      <td>1182114</td>\n",
       "      <td>78657</td>\n",
       "      <td>168013</td>\n",
       "      <td>1319919</td>\n",
       "      <td>7260426</td>\n",
       "      <td>163618</td>\n",
       "      <td>1156301</td>\n",
       "      <td>84987</td>\n",
       "      <td>254466</td>\n",
       "    </tr>\n",
       "    <tr>\n",
       "      <th>Ruby</th>\n",
       "      <td>147449</td>\n",
       "      <td>776061</td>\n",
       "      <td>69544</td>\n",
       "      <td>77905</td>\n",
       "      <td>1231480</td>\n",
       "      <td>10747737</td>\n",
       "      <td>705927</td>\n",
       "      <td>525553</td>\n",
       "      <td>62133</td>\n",
       "      <td>122786</td>\n",
       "    </tr>\n",
       "  </tbody>\n",
       "</table>\n",
       "</div>"
      ],
      "text/plain": [
       "      projects  project_depedencies  github_nodes  published_nodes  releases  \\\n",
       "lang                                                                           \n",
       "Rust      7978                25144             0             7978     22105   \n",
       "JS      246670              1182114         78657           168013   1319919   \n",
       "Ruby    147449               776061         69544            77905   1231480   \n",
       "\n",
       "      release_dependencies  github_nodes  published_nodes  github  published  \n",
       "lang                                                                          \n",
       "Rust                 66055             0             7978       0      11037  \n",
       "JS                 7260426        163618          1156301   84987     254466  \n",
       "Ruby              10747737        705927           525553   62133     122786  "
      ]
     },
     "execution_count": 71,
     "metadata": {},
     "output_type": "execute_result"
    }
   ],
   "source": [
    "totals2"
   ]
  },
  {
   "cell_type": "code",
   "execution_count": 11,
   "metadata": {
    "collapsed": false
   },
   "outputs": [
    {
     "name": "stdout",
     "output_type": "stream",
     "text": [
      "lang\n",
      "Rust    3.151667\n",
      "JS      4.792289\n",
      "Ruby    5.263250\n",
      "dtype: float64\n",
      "lang\n",
      "Rust    2.988238\n",
      "JS      5.500660\n",
      "Ruby    8.727496\n",
      "dtype: float64\n"
     ]
    }
   ],
   "source": [
    "print totals.project_depedencies / totals.projects\n",
    "print totals.release_dependencies / totals.releases\n"
   ]
  },
  {
   "cell_type": "markdown",
   "metadata": {},
   "source": [
    "# FINAL MONTH STATS"
   ]
  },
  {
   "cell_type": "code",
   "execution_count": 28,
   "metadata": {
    "collapsed": true
   },
   "outputs": [],
   "source": [
    "final_reg = pd.read_csv(\"../paper/figures/last_month_data_reg.csv.gz\")\n",
    "final_ver = pd.read_csv(\"../paper/figures/last_month_data_ver.csv.gz\")"
   ]
  },
  {
   "cell_type": "code",
   "execution_count": 29,
   "metadata": {
    "collapsed": false
   },
   "outputs": [
    {
     "data": {
      "text/html": [
       "<div>\n",
       "<table border=\"1\" class=\"dataframe\">\n",
       "  <thead>\n",
       "    <tr style=\"text-align: right;\">\n",
       "      <th></th>\n",
       "      <th>outdegree</th>\n",
       "      <th>indegree</th>\n",
       "      <th>dependencies_unique</th>\n",
       "      <th>dependents_unique</th>\n",
       "      <th>dependencies_unique_direct</th>\n",
       "      <th>dependents_unique_direct</th>\n",
       "    </tr>\n",
       "    <tr>\n",
       "      <th>lang</th>\n",
       "      <th></th>\n",
       "      <th></th>\n",
       "      <th></th>\n",
       "      <th></th>\n",
       "      <th></th>\n",
       "      <th></th>\n",
       "    </tr>\n",
       "  </thead>\n",
       "  <tbody>\n",
       "    <tr>\n",
       "      <th>JS</th>\n",
       "      <td>4.792289</td>\n",
       "      <td>4.792289</td>\n",
       "      <td>1055.561588</td>\n",
       "      <td>1055.561588</td>\n",
       "      <td>4.792289</td>\n",
       "      <td>4.792289</td>\n",
       "    </tr>\n",
       "    <tr>\n",
       "      <th>Ruby</th>\n",
       "      <td>5.263250</td>\n",
       "      <td>5.263250</td>\n",
       "      <td>115.081350</td>\n",
       "      <td>115.081350</td>\n",
       "      <td>5.263250</td>\n",
       "      <td>5.263250</td>\n",
       "    </tr>\n",
       "    <tr>\n",
       "      <th>Rust</th>\n",
       "      <td>3.151667</td>\n",
       "      <td>3.151667</td>\n",
       "      <td>28.361619</td>\n",
       "      <td>28.361619</td>\n",
       "      <td>3.151667</td>\n",
       "      <td>3.151667</td>\n",
       "    </tr>\n",
       "  </tbody>\n",
       "</table>\n",
       "</div>"
      ],
      "text/plain": [
       "      outdegree  indegree  dependencies_unique  dependents_unique  \\\n",
       "lang                                                                \n",
       "JS     4.792289  4.792289          1055.561588        1055.561588   \n",
       "Ruby   5.263250  5.263250           115.081350         115.081350   \n",
       "Rust   3.151667  3.151667            28.361619          28.361619   \n",
       "\n",
       "      dependencies_unique_direct  dependents_unique_direct  \n",
       "lang                                                        \n",
       "JS                      4.792289                  4.792289  \n",
       "Ruby                    5.263250                  5.263250  \n",
       "Rust                    3.151667                  3.151667  "
      ]
     },
     "execution_count": 29,
     "metadata": {},
     "output_type": "execute_result"
    }
   ],
   "source": [
    "final_reg[[\"outdegree\", \"indegree\",\"dependencies_unique\", \"dependents_unique\", \"lang\",\"dependencies_unique_direct\",\"dependents_unique_direct\"]].groupby(\"lang\").mean()"
   ]
  },
  {
   "cell_type": "code",
   "execution_count": 15,
   "metadata": {
    "collapsed": false
   },
   "outputs": [
    {
     "data": {
      "text/html": [
       "<div>\n",
       "<table border=\"1\" class=\"dataframe\">\n",
       "  <thead>\n",
       "    <tr style=\"text-align: right;\">\n",
       "      <th></th>\n",
       "      <th>indegree</th>\n",
       "    </tr>\n",
       "    <tr>\n",
       "      <th>lang</th>\n",
       "      <th></th>\n",
       "    </tr>\n",
       "  </thead>\n",
       "  <tbody>\n",
       "    <tr>\n",
       "      <th>JS</th>\n",
       "      <td>1246856</td>\n",
       "    </tr>\n",
       "    <tr>\n",
       "      <th>Ruby</th>\n",
       "      <td>1213562</td>\n",
       "    </tr>\n",
       "    <tr>\n",
       "      <th>Rust</th>\n",
       "      <td>20913</td>\n",
       "    </tr>\n",
       "  </tbody>\n",
       "</table>\n",
       "</div>"
      ],
      "text/plain": [
       "      indegree\n",
       "lang          \n",
       "JS     1246856\n",
       "Ruby   1213562\n",
       "Rust     20913"
      ]
     },
     "execution_count": 15,
     "metadata": {},
     "output_type": "execute_result"
    }
   ],
   "source": [
    "final_ver[[\"lang\",\"indegree\"]].groupby(\"lang\").count()"
   ]
  },
  {
   "cell_type": "code",
   "execution_count": 20,
   "metadata": {
    "collapsed": false
   },
   "outputs": [
    {
     "data": {
      "text/plain": [
       "JS      1246856\n",
       "Ruby    1213562\n",
       "Rust      20913\n",
       "Name: lang, dtype: int64"
      ]
     },
     "execution_count": 20,
     "metadata": {},
     "output_type": "execute_result"
    }
   ],
   "source": [
    "final_ver.lang.value_counts()"
   ]
  },
  {
   "cell_type": "code",
   "execution_count": 35,
   "metadata": {
    "collapsed": false
   },
   "outputs": [
    {
     "data": {
      "image/png": "[encoded data removed]",
      "text/plain": [
       "<matplotlib.figure.Figure at 0xcd628d0>"
      ]
     },
     "metadata": {},
     "output_type": "display_data"
    }
   ],
   "source": [
    "data = pd.melt(final_reg[[\"project_github\",\"lang\", \"outdegree\", \"dependencies_unique\"]],\n",
    "                   id_vars=[ 'lang', 'project_github'])\n",
    "\n",
    "fig, ax = plt.subplots()\n",
    "\n",
    "sns.boxplot(data=data,#.query('value > 0'),\n",
    "                x='variable', y='value', hue='lang', ax=ax)\n",
    "ax.set_yscale('log')\n",
    "ax.set_xlabel('')\n",
    "ax.set_ylabel('# packages')\n",
    "ax.legend(title='')\n",
    "plt.show()"
   ]
  },
  {
   "cell_type": "code",
   "execution_count": null,
   "metadata": {
    "collapsed": true
   },
   "outputs": [],
   "source": []
  },
  {
   "cell_type": "code",
   "execution_count": null,
   "metadata": {
    "collapsed": true
   },
   "outputs": [],
   "source": []
  }
 ],
 "metadata": {
  "anaconda-cloud": {},
  "kernelspec": {
   "display_name": "Python [conda root]",
   "language": "python",
   "name": "conda-root-py"
  },
  "language_info": {
   "codemirror_mode": {
    "name": "ipython",
    "version": 2
   },
   "file_extension": ".py",
   "mimetype": "text/x-python",
   "name": "python",
   "nbconvert_exporter": "python",
   "pygments_lexer": "ipython2",
   "version": "2.7.12"
  }
 },
 "nbformat": 4,
 "nbformat_minor": 1
}
