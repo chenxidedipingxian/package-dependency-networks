{
 "cells": [
  {
   "cell_type": "markdown",
   "metadata": {},
   "source": [
    "## This notebook contains analysis, tables and figures in the paper"
   ]
  },
  {
   "cell_type": "code",
   "execution_count": 1,
   "metadata": {
    "collapsed": false
   },
   "outputs": [],
   "source": [
    "import sys\n",
    "sys.path.append(\"../code/\")\n",
    "\n",
    "import config\n",
    "\n",
    "%matplotlib inline\n",
    "import matplotlib.pyplot as plt\n",
    "import numpy  as np\n",
    "import pandas as pd\n",
    "import seaborn as sns\n",
    "import glob\n",
    "sns.set_context(\"paper\")\n",
    "sns.set_style(\"white\")\n",
    "\n",
    "import re\n",
    "import os\n",
    "from collections import defaultdict"
   ]
  },
  {
   "cell_type": "markdown",
   "metadata": {},
   "source": [
    "## Data loading and preparation\n"
   ]
  },
  {
   "cell_type": "code",
   "execution_count": 14,
   "metadata": {
    "collapsed": false
   },
   "outputs": [],
   "source": [
    "lang = \"JS\"\n",
    "\n",
    "adoption_file = config.FINAL_DATA+\"cleaned_{0}_adoption_final.csv\"\n",
    "release_file = config.FINAL_DATA+\"cleaned_{0}_release_final.csv\"\n",
    "opts = {\"na_filter\": False}\n",
    "#%%\n",
    "\n",
    "df_adoption =  pd.read_csv(adoption_file.format(lang), **opts)\n",
    "df_release =  pd.read_csv(release_file.format(lang), **opts)"
   ]
  },
  {
   "cell_type": "code",
   "execution_count": 3,
   "metadata": {
    "collapsed": false
   },
   "outputs": [
    {
     "data": {
      "image/png": "[encoded data removed]",
      "text/plain": [
       "<matplotlib.figure.Figure at 0x990e390>"
      ]
     },
     "metadata": {},
     "output_type": "display_data"
    },
    {
     "data": {
      "image/png": "[encoded data removed]",
      "text/plain": [
       "<matplotlib.figure.Figure at 0x108edb70>"
      ]
     },
     "metadata": {},
     "output_type": "display_data"
    }
   ],
   "source": [
    "df_fixed = pd.read_csv(\"../data/working/fixed_adopted_{0}_meta.csv\".format(lang), sep=\"\\t\")\n",
    "df_fixed.groupby([\"project_github\", \"project_ver\",\"adopted_name\", \"orig_ver_string\", \"commit_ts\"]).count().reset_index().head()\n",
    "\n",
    "plt.figure()\n",
    "df_fixed.groupby([\"project_github\", \"adopted_name\", \"orig_ver_string\"]).count().reset_index()[\"project_ver\"].hist(bins=100,alpha=0.5)\n",
    "plt.show()\n",
    "plt.figure()\n",
    "df_fixed.groupby([\"project_github\", \"adopted_name\", \"adopted_ver\"]).count().reset_index()[\"project_ver\"].hist(bins=100, alpha=0.5)\n",
    "plt.show()"
   ]
  },
  {
   "cell_type": "code",
   "execution_count": 4,
   "metadata": {
    "collapsed": false
   },
   "outputs": [
    {
     "data": {
      "text/html": [
       "<div>\n",
       "<table border=\"1\" class=\"dataframe\">\n",
       "  <thead>\n",
       "    <tr style=\"text-align: right;\">\n",
       "      <th></th>\n",
       "      <th>project_github</th>\n",
       "      <th>project_name</th>\n",
       "      <th>commit_ts</th>\n",
       "      <th>project_ver</th>\n",
       "      <th>adopted_name</th>\n",
       "      <th>orig_ver_string</th>\n",
       "      <th>is_published</th>\n",
       "      <th>release_ts_x</th>\n",
       "      <th>adopted_ver</th>\n",
       "      <th>adopted_github</th>\n",
       "      <th>release_ts_y</th>\n",
       "    </tr>\n",
       "  </thead>\n",
       "  <tbody>\n",
       "  </tbody>\n",
       "</table>\n",
       "</div>"
      ],
      "text/plain": [
       "Empty DataFrame\n",
       "Columns: [project_github, project_name, commit_ts, project_ver, adopted_name, orig_ver_string, is_published, release_ts_x, adopted_ver, adopted_github, release_ts_y]\n",
       "Index: []"
      ]
     },
     "execution_count": 4,
     "metadata": {},
     "output_type": "execute_result"
    }
   ],
   "source": [
    "df_fixed.query(\"adopted_name == 'lodash' and adopted_ver == '2.4.1'\").sort_values([\"project_name\", \"project_ver\", \"is_published\"])"
   ]
  },
  {
   "cell_type": "markdown",
   "metadata": {},
   "source": [
    "# Basic statistics"
   ]
  },
  {
   "cell_type": "code",
   "execution_count": 5,
   "metadata": {
    "collapsed": false
   },
   "outputs": [
    {
     "name": "stdout",
     "output_type": "stream",
     "text": [
      "    project_github project_name project_ver adopted_name   commit_ts  \\\n",
      "0  0X1A/core-utils   core-utils       0.1.0    ansi_term  1433523708   \n",
      "1  0X1A/core-utils   core-utils       0.1.0      getopts  1433523708   \n",
      "2  0X1A/core-utils   core-utils       0.1.0     num_cpus  1433523708   \n",
      "3  0X1A/core-utils   core-utils       0.1.0         term  1432311903   \n",
      "4  0X1A/core-utils   core-utils       0.1.1    ansi_term  1434042038   \n",
      "\n",
      "  adopted_ver  is_published  \n",
      "0       0.5.2             1  \n",
      "1      0.2.11             1  \n",
      "2       0.2.5             1  \n",
      "3       0.2.7             1  \n",
      "4       0.6.1             1  \n",
      "       project_github project_name project_ver  release_ts  is_published\n",
      "0  dmisiuk/test_hyper   test_hyper       0.1.0  1432652854             1\n",
      "1       brayniac/mpmc         mpmc       0.1.0  1446157648             1\n",
      "2       brayniac/mpmc         mpmc       0.1.2  1458765252             1\n",
      "3       brayniac/mpmc         mpmc       0.1.1  1447581850             1\n",
      "4      aatxe/rustlike     rustlike       0.0.1  1417246725             1\n",
      "Unique projects (9456L,)\n"
     ]
    }
   ],
   "source": [
    "print df_adoption.head()\n",
    "print df_release.head()\n",
    "print \"Unique projects\", df_release.project_name.value_counts().shape\n",
    "\n",
    "#df_release.head()\n",
    "\n",
    "#print df_release.groupby(\"project_name\").count().reset_index().mean()"
   ]
  },
  {
   "cell_type": "code",
   "execution_count": 6,
   "metadata": {
    "collapsed": false
   },
   "outputs": [
    {
     "name": "stdout",
     "output_type": "stream",
     "text": [
      "     project_github project_name project_ver adopted_name   commit_ts  \\\n",
      "9   0X1A/core-utils   core-utils       0.1.2     num_cpus  1439838594   \n",
      "10  0X1A/core-utils   core-utils       0.1.2     pgetopts  1439838594   \n",
      "11  0X1A/core-utils   core-utils       0.1.2          rpf  1439838594   \n",
      "15         0X1A/mpm          mpm       0.1.0        libpm  1458240468   \n",
      "16         0X1A/mpm          mpm       0.1.0     pgetopts  1458240468   \n",
      "\n",
      "   adopted_ver  is_published  \n",
      "9        0.2.6             1  \n",
      "10       0.1.2             1  \n",
      "11       0.1.3             1  \n",
      "15         git             1  \n",
      "16         0.1             1  \n"
     ]
    }
   ],
   "source": [
    "def get_max_rows(df):\n",
    "    commit_ts_maxes = df.groupby('project_name').commit_ts.transform(max)\n",
    "    return df[df.commit_ts == commit_ts_maxes] \n",
    "\n",
    "maxed = get_max_rows(df_adoption)\n",
    "\n",
    "print maxed.head()"
   ]
  },
  {
   "cell_type": "markdown",
   "metadata": {},
   "source": [
    "# Evolution"
   ]
  },
  {
   "cell_type": "code",
   "execution_count": 7,
   "metadata": {
    "collapsed": false
   },
   "outputs": [],
   "source": [
    "evolution = pd.read_csv(\"../data/results/{0}Exp-stats-regular.tsv\".format(lang),sep=\"\\t\",\n",
    "                        skiprows=0,header=None,na_values=\"\",  index_col=False,\n",
    "                        names=[\"timestamp\", \"nodes\",\"unique_relations\",\"count\", \"version_relations\", \"unique\"])\n",
    "\n",
    "evolution[\"date\"] = pd.to_datetime(evolution.timestamp,unit='s')\n",
    "evolution[\"date\"] = pd.DatetimeIndex(evolution.date).normalize()\n",
    "evolution  = evolution[evolution.nodes>0].sort_values(\"date\")\n",
    "\n",
    "\n",
    "evolution_ver = pd.read_csv(\"../data/results/{0}Exp-stats-vernode.tsv\".format(lang),sep=\"\\t\",\n",
    "                        skiprows=0,header=None,na_values=\"\",  index_col=False,\n",
    "                        names=[\"timestamp\", \"nodes\",\"version_relations\"])\n",
    "evolution_ver[\"date\"] = pd.to_datetime(evolution_ver.timestamp,unit='s')\n",
    "evolution_ver[\"date\"] = pd.DatetimeIndex(evolution_ver.date).normalize()\n",
    "evolution_ver  = evolution_ver[evolution_ver.nodes>0].sort_values(\"date\")"
   ]
  },
  {
   "cell_type": "code",
   "execution_count": 8,
   "metadata": {
    "collapsed": false
   },
   "outputs": [],
   "source": [
    "evolution[[\"date\", \"nodes\", \"unique_relations\", \"version_relations\", \"unique\"]].to_latex(\"../paper/tables/evolution_regular_{0}.tex\".format(lang))\n",
    "evolution_ver[[\"date\", \"nodes\", \"version_relations\"]].to_latex(\"../paper/tables/evolution_ver_{0}.tex\".format(lang))"
   ]
  },
  {
   "cell_type": "code",
   "execution_count": 16,
   "metadata": {
    "collapsed": false
   },
   "outputs": [],
   "source": [
    "regular = pd.read_csv(\"../data/results/generated-regular-simulation-{0}.csv\".format(lang))\n",
    "vernode = pd.read_csv(\"../data/results/generated-vernode-simulation-{0}.csv\".format(lang))"
   ]
  },
  {
   "cell_type": "markdown",
   "metadata": {
    "collapsed": true
   },
   "source": [
    "# Fragility and Spreading\n"
   ]
  },
  {
   "cell_type": "code",
   "execution_count": 10,
   "metadata": {
    "collapsed": false
   },
   "outputs": [
    {
     "name": "stdout",
     "output_type": "stream",
     "text": [
      "unique_spreading\n",
      "               project_name project_github    size  max_depth  unique  \\\n",
      "1336         rust-lang/libc           libc  4974.0        4.0  4700.0   \n",
      "7967         rust-lang/libc           libc  4974.0        4.0  4700.0   \n",
      "6616         rust-lang/libc           libc  4220.0        4.0  4214.0   \n",
      "5704  rust-lang-nursery/log            log  3429.0        4.0  4133.0   \n",
      "1973  rust-lang-nursery/log            log  3429.0        4.0  4133.0   \n",
      "\n",
      "      indegree  outdegree       date  \n",
      "1336    1154.0        0.0 2016-05-29  \n",
      "7967    1154.0        0.0 2016-08-27  \n",
      "6616    1028.0        0.0 2016-02-29  \n",
      "5704     953.0        4.0 2016-05-29  \n",
      "1973     953.0        4.0 2016-08-27  \n",
      "None\n"
     ]
    },
    {
     "data": {
      "text/plain": [
       "<matplotlib.figure.Figure at 0xd8e0a90>"
      ]
     },
     "metadata": {},
     "output_type": "display_data"
    },
    {
     "data": {
      "image/png": "[encoded data removed]",
      "text/plain": [
       "<matplotlib.figure.Figure at 0xd8e0ba8>"
      ]
     },
     "metadata": {},
     "output_type": "display_data"
    },
    {
     "data": {
      "image/png": "[encoded data removed]",
      "text/plain": [
       "<matplotlib.figure.Figure at 0x105a8dd8>"
      ]
     },
     "metadata": {},
     "output_type": "display_data"
    },
    {
     "name": "stdout",
     "output_type": "stream",
     "text": [
      "unique_vulnerability\n",
      "                            project_name   project_github project_ver    size  \\\n",
      "18569  rust-lang-nursery/rustc-serialize  rustc-serialize      0.3.16  1716.0   \n",
      "6293   rust-lang-nursery/rustc-serialize  rustc-serialize      0.3.16  1716.0   \n",
      "11140  rust-lang-nursery/rustc-serialize  rustc-serialize      0.3.16  1514.0   \n",
      "13750                     rust-lang/libc             libc       0.2.1  1190.0   \n",
      "9712                      rust-lang/libc             libc       0.2.8  1033.0   \n",
      "\n",
      "       max_depth  unique  indegree  outdegree       date  \n",
      "18569        4.0  1715.0    1693.0        0.0 2016-08-27  \n",
      "6293         4.0  1715.0    1693.0        0.0 2016-05-29  \n",
      "11140        5.0  1513.0    1595.0        0.0 2016-02-29  \n",
      "13750        5.0  1189.0     136.0        0.0 2016-02-29  \n",
      "9712         8.0  1032.0     193.0        0.0 2016-08-27  \n",
      "None\n"
     ]
    },
    {
     "data": {
      "text/plain": [
       "<matplotlib.figure.Figure at 0x1113bd68>"
      ]
     },
     "metadata": {},
     "output_type": "display_data"
    },
    {
     "data": {
      "image/png": "[encoded data removed]",
      "text/plain": [
       "<matplotlib.figure.Figure at 0xdf0a940>"
      ]
     },
     "metadata": {},
     "output_type": "display_data"
    },
    {
     "data": {
      "image/png": "[encoded data removed]",
      "text/plain": [
       "<matplotlib.figure.Figure at 0x105ad6a0>"
      ]
     },
     "metadata": {},
     "output_type": "display_data"
    }
   ],
   "source": [
    "cases = [ regular, vernode]\n",
    "labels = [\"unique_spreading\", \"unique_vulnerability\"]\n",
    "\n",
    "def percentile(n):\n",
    "    def percentile_(x):\n",
    "        return np.percentile(x, n)\n",
    "    percentile_.__name__ = '%s%%' % n\n",
    "    return percentile_\n",
    "\n",
    "for x in range(len(labels)):\n",
    "       #plt.figure()\n",
    "    #cases[x][[\"date\", \"unique\"]].boxplot(by=\"date\", showfliers=False, rot=90)\n",
    "    #plt.show()\n",
    "    print labels[x]\n",
    "    print cases[x].sort_values(\"unique\",ascending=False).head()\n",
    "    plt.figure()\n",
    "    growth = cases[x][[\"date\", \"unique\"]].groupby(\"date\").agg([\"min\", percentile(5), \"mean\",\"median\",percentile(95),\"max\"  ]).reset_index()\n",
    "    print growth.to_latex(\"../paper/tables/table_{0}_{1}.tex\".format(labels[x], lang),float_format=\"%.2f\",index=False)\n",
    "    cases[x][[\"date\", \"unique\"]].groupby(\"date\").agg([\"max\", \"mean\",\"min\"]).plot()\n",
    "    plt.show()\n",
    "    plt.figure(figsize=(4,3))\n",
    "    plt.hist(cases[x][cases[x].date==cases[x].date.max()].unique.values)\n",
    "    plt.xlabel(\"Count\")\n",
    "    plt.ylabel(\"Projects\")\n",
    "    plt.yscale(\"log\")\n",
    "    plt.tight_layout(0.1)\n",
    "    plt.savefig(\"../paper/figures/distribution_latest_{0}_{1}.pdf\".format(labels[x], lang))\n",
    "    plt.show()"
   ]
  },
  {
   "cell_type": "code",
   "execution_count": 13,
   "metadata": {
    "collapsed": false
   },
   "outputs": [
    {
     "data": {
      "text/plain": [
       "array([[<matplotlib.axes._subplots.AxesSubplot object at 0x000000000CD216D8>]], dtype=object)"
      ]
     },
     "execution_count": 13,
     "metadata": {},
     "output_type": "execute_result"
    },
    {
     "data": {
      "image/png": "[encoded data removed]",
      "text/plain": [
       "<matplotlib.figure.Figure at 0x10c79ef0>"
      ]
     },
     "metadata": {},
     "output_type": "display_data"
    }
   ],
   "source": [
    "vernode[[\"max_depth\"]].hist(bins=100)"
   ]
  },
  {
   "cell_type": "markdown",
   "metadata": {
    "collapsed": true
   },
   "source": [
    "# Other\n",
    "\n"
   ]
  },
  {
   "cell_type": "code",
   "execution_count": null,
   "metadata": {
    "collapsed": false
   },
   "outputs": [],
   "source": [
    "regular.sort_values([\"unique\"], ascending=False).head(30)"
   ]
  },
  {
   "cell_type": "code",
   "execution_count": null,
   "metadata": {
    "collapsed": false
   },
   "outputs": [],
   "source": [
    "vernode.sort_values([\"unique\"], ascending=False).head(30)"
   ]
  },
  {
   "cell_type": "code",
   "execution_count": null,
   "metadata": {
    "collapsed": true
   },
   "outputs": [],
   "source": [
    ""
   ]
  }
 ],
 "metadata": {
  "kernelspec": {
   "display_name": "Python [Root]",
   "language": "python",
   "name": "Python [Root]"
  },
  "language_info": {
   "codemirror_mode": {
    "name": "ipython",
    "version": 2.0
   },
   "file_extension": ".py",
   "mimetype": "text/x-python",
   "name": "python",
   "nbconvert_exporter": "python",
   "pygments_lexer": "ipython2",
   "version": "2.7.12"
  }
 },
 "nbformat": 4,
 "nbformat_minor": 0
}