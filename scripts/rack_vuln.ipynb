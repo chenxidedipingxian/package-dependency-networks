{
 "cells": [
  {
   "cell_type": "markdown",
   "metadata": {},
   "source": [
    "# Temporal Analysis of  adoption of vulnerable versions of Rack pcackages in Ruby\n",
    "https://www.cvedetails.com/cve/CVE-2015-3225/\n"
   ]
  },
  {
   "cell_type": "code",
   "execution_count": 169,
   "metadata": {
    "collapsed": false
   },
   "outputs": [],
   "source": [
    "import pandas as pd\n",
    "import networkx as nx\n",
    "from matplotlib import pyplot as plt\n",
    "import seaborn as sns\n",
    "sns.set_style(\"white\")\n",
    "sns.set_context(\"poster\")"
   ]
  },
  {
   "cell_type": "markdown",
   "metadata": {},
   "source": [
    "## Load the dependency data"
   ]
  },
  {
   "cell_type": "code",
   "execution_count": 15,
   "metadata": {
    "collapsed": false
   },
   "outputs": [
    {
     "name": "stderr",
     "output_type": "stream",
     "text": [
      "C:\\Users\\riivo\\Anaconda2\\envs\\py36\\lib\\site-packages\\IPython\\core\\interactiveshell.py:2683: DtypeWarning: Columns (2) have mixed types. Specify dtype option on import or set low_memory=False.\n",
      "  interactivity=interactivity, compiler=compiler, result=result)\n"
     ]
    }
   ],
   "source": [
    "data = pd.read_csv(\"../data/cleaned_Ruby_dependency_final.csv.gz\")"
   ]
  },
  {
   "cell_type": "code",
   "execution_count": 184,
   "metadata": {
    "collapsed": false
   },
   "outputs": [],
   "source": [
    "releases = pd.read_csv(\"../data/cleaned_Ruby_release_final.csv.gz\")"
   ]
  },
  {
   "cell_type": "code",
   "execution_count": 183,
   "metadata": {
    "collapsed": false
   },
   "outputs": [
    {
     "data": {
      "text/html": [
       "<div>\n",
       "<style>\n",
       "    .dataframe thead tr:only-child th {\n",
       "        text-align: right;\n",
       "    }\n",
       "\n",
       "    .dataframe thead th {\n",
       "        text-align: left;\n",
       "    }\n",
       "\n",
       "    .dataframe tbody tr th {\n",
       "        vertical-align: top;\n",
       "    }\n",
       "</style>\n",
       "<table border=\"1\" class=\"dataframe\">\n",
       "  <thead>\n",
       "    <tr style=\"text-align: right;\">\n",
       "      <th></th>\n",
       "      <th>project_github</th>\n",
       "      <th>project_name</th>\n",
       "      <th>project_ver</th>\n",
       "      <th>release_ts</th>\n",
       "      <th>is_published</th>\n",
       "    </tr>\n",
       "  </thead>\n",
       "  <tbody>\n",
       "    <tr>\n",
       "      <th>514886</th>\n",
       "      <td>rack</td>\n",
       "      <td>rack</td>\n",
       "      <td>0.1.0</td>\n",
       "      <td>1172876400</td>\n",
       "      <td>1</td>\n",
       "    </tr>\n",
       "    <tr>\n",
       "      <th>514887</th>\n",
       "      <td>rack</td>\n",
       "      <td>rack</td>\n",
       "      <td>0.2.0</td>\n",
       "      <td>1179266400</td>\n",
       "      <td>1</td>\n",
       "    </tr>\n",
       "    <tr>\n",
       "      <th>514888</th>\n",
       "      <td>rack</td>\n",
       "      <td>rack</td>\n",
       "      <td>0.3.0</td>\n",
       "      <td>1203980400</td>\n",
       "      <td>1</td>\n",
       "    </tr>\n",
       "    <tr>\n",
       "      <th>514889</th>\n",
       "      <td>rack</td>\n",
       "      <td>rack</td>\n",
       "      <td>0.4.0</td>\n",
       "      <td>1219269600</td>\n",
       "      <td>1</td>\n",
       "    </tr>\n",
       "    <tr>\n",
       "      <th>514890</th>\n",
       "      <td>rack</td>\n",
       "      <td>rack</td>\n",
       "      <td>0.9.0</td>\n",
       "      <td>1231196400</td>\n",
       "      <td>1</td>\n",
       "    </tr>\n",
       "  </tbody>\n",
       "</table>\n",
       "</div>"
      ],
      "text/plain": [
       "       project_github project_name project_ver  release_ts  is_published\n",
       "514886           rack         rack       0.1.0  1172876400             1\n",
       "514887           rack         rack       0.2.0  1179266400             1\n",
       "514888           rack         rack       0.3.0  1203980400             1\n",
       "514889           rack         rack       0.4.0  1219269600             1\n",
       "514890           rack         rack       0.9.0  1231196400             1"
      ]
     },
     "execution_count": 183,
     "metadata": {},
     "output_type": "execute_result"
    }
   ],
   "source": [
    "releases.query(\"project_name == 'rack'\").head(5)"
   ]
  },
  {
   "cell_type": "markdown",
   "metadata": {},
   "source": [
    "## Construct network "
   ]
  },
  {
   "cell_type": "code",
   "execution_count": 17,
   "metadata": {
    "collapsed": true
   },
   "outputs": [],
   "source": [
    "#Make composite key for easy network construction\n",
    "data['src'] = data['project_github'] + \":::\" + data['project_ver'].map(str)\n",
    "data['trgt'] = data['adopted_name'] + \":::\" + data['new_ver']"
   ]
  },
  {
   "cell_type": "code",
   "execution_count": 18,
   "metadata": {
    "collapsed": true
   },
   "outputs": [],
   "source": [
    "#we create a networks with reversed edges for easy traversal\n",
    "g = nx.from_pandas_dataframe(data,  \"trgt\", \"src\",create_using=nx.DiGraph())"
   ]
  },
  {
   "cell_type": "code",
   "execution_count": 19,
   "metadata": {
    "collapsed": false
   },
   "outputs": [],
   "source": [
    "versions = ['0.1.0', '0.2.0', '0.3.0', '0.4.0', '0.9.0', '0.9.1', '1.0.0', '1.0.1',\n",
    "       '1.1.0', '1.1.1', '1.1.1.pre', '1.1.2', '1.1.3', '1.1.4', '1.1.5',\n",
    "       '1.1.6', '1.2.0', '1.2.1', '1.2.2', '1.2.3', '1.2.4', '1.2.5', '1.2.6',\n",
    "       '1.2.7', '1.2.8', '1.3.0', '1.3.0.beta', '1.3.0.beta2', '1.3.1',\n",
    "       '1.3.10', '1.3.2', '1.3.3', '1.3.4', '1.3.5', '1.3.6', '1.3.7', '1.3.8',\n",
    "       '1.3.9', '1.4.0', '1.4.1', '1.4.2', '1.4.3', '1.4.4', '1.4.5', '1.4.6',\n",
    "       '1.4.7', '1.5.0', '1.5.0.beta.1', '1.5.1', '1.5.2', '1.5.3', '1.5.4',\n",
    "       '1.5.5', '1.6.0', '1.6.0.beta', '1.6.0.beta2', '1.6.1', '1.6.2',\n",
    "       '1.6.3', '1.6.4', '2.0.0.alpha', '2.0.0.rc1', '2.0.1']\n",
    "not_affected = ['1.5.4','1.5.5','1.6.2', '1.6.3', '1.6.4', '2.0.0.alpha', '2.0.0.rc1', '2.0.1']\n",
    "affected = set(versions) - set(not_affected)\n",
    "\n",
    "affected_nodes = [\"rack:::\" + x for x in affected]\n",
    "not_affected_nodes = [\"rack:::\" + x for x in not_affected]\n"
   ]
  },
  {
   "cell_type": "markdown",
   "metadata": {},
   "source": [
    "## Find all nodes connected to vulnrable and non-vulnrable releases"
   ]
  },
  {
   "cell_type": "code",
   "execution_count": 20,
   "metadata": {
    "collapsed": false
   },
   "outputs": [],
   "source": [
    "affected_reachable = {}\n",
    "not_affected_reachable = {}\n",
    "\n",
    "for x in affected_nodes:\n",
    "    reachable = set(nx.dfs_preorder_nodes(g,x))\n",
    "    affected_reachable[x] = reachable\n",
    "\n",
    "for x in not_affected_nodes:\n",
    "    reachable = set(nx.dfs_preorder_nodes(g,x))\n",
    "    not_affected_reachable[x] = reachable\n",
    "    "
   ]
  },
  {
   "cell_type": "markdown",
   "metadata": {},
   "source": [
    "## Construct dataset with projects that adopted vulnrable versions"
   ]
  },
  {
   "cell_type": "code",
   "execution_count": 58,
   "metadata": {
    "collapsed": false
   },
   "outputs": [],
   "source": [
    "def mapping(reach, fixed_release=0):\n",
    "    adopted = []\n",
    "    for k, v in reach.items():\n",
    "        key = k.split(\":::\")\n",
    "        rows = map(lambda x:list(key) + list(x.split(\":::\")),v)\n",
    "        adopted.extend(list(rows))\n",
    "    df = pd.DataFrame.from_records(adopted, columns=[\"target_proj\", \"target_ver\", \"project_name\", \"project_ver\"])\n",
    "    df[\"vulnerable_target\"] = fixed_release\n",
    "    return  df\n",
    "\n",
    "adoption_bad = mapping(affected_reachable, 1)\n",
    "adoption_good  = mapping(not_affected_reachable, 0)"
   ]
  },
  {
   "cell_type": "code",
   "execution_count": 123,
   "metadata": {
    "collapsed": false,
    "scrolled": true
   },
   "outputs": [],
   "source": [
    "stacked = pd.concat([adoption_bad, adoption_good])"
   ]
  },
  {
   "cell_type": "code",
   "execution_count": 124,
   "metadata": {
    "collapsed": false
   },
   "outputs": [],
   "source": [
    "stacked_ts = pd.merge(stacked, releases[[\"project_name\", \"project_ver\", \"release_ts\"]], on=[\"project_name\", \"project_ver\"], how=\"left\")\n",
    "stacked_ts.release_ts = stacked_ts.release_ts.map(float)\n",
    "stacked_ts.loc[pd.isnull(stacked_ts.release_ts), \"release_ts\"] = stacked_ts.loc[pd.isnull(stacked_ts.release_ts), \"project_ver\"].map(float)\n",
    "stacked_ts.loc[:, \"release_ts\"] = pd.to_datetime(stacked_ts.loc[:, \"release_ts\"], unit='s')"
   ]
  },
  {
   "cell_type": "code",
   "execution_count": 125,
   "metadata": {
    "collapsed": false
   },
   "outputs": [],
   "source": [
    "fixes = stacked_ts[[\"project_name\", \"vulnerable_target\", \"release_ts\"]].groupby([\"project_name\", \"vulnerable_target\"]).min().reset_index()"
   ]
  },
  {
   "cell_type": "code",
   "execution_count": 127,
   "metadata": {
    "collapsed": false
   },
   "outputs": [],
   "source": [
    "fixes.loc[:, \"count\"] = 1"
   ]
  },
  {
   "cell_type": "markdown",
   "metadata": {},
   "source": [
    "## Plot the adoptin of vulnerable and non vulnrable versions according to CVE-2015-3225"
   ]
  },
  {
   "cell_type": "code",
   "execution_count": 142,
   "metadata": {
    "collapsed": false
   },
   "outputs": [],
   "source": [
    "a = fixes[fixes.vulnerable_target == 0][[\"release_ts\", \"count\"]].set_index(\"release_ts\").sort_index().cumsum()\n",
    "b  = fixes[fixes.vulnerable_target == 1][[\"release_ts\", \"count\"]].set_index(\"release_ts\").sort_index().cumsum()"
   ]
  },
  {
   "cell_type": "code",
   "execution_count": 185,
   "metadata": {
    "collapsed": false
   },
   "outputs": [
    {
     "data": {
      "image/png": "[encoded data removed]",
      "text/plain": [
       "<matplotlib.figure.Figure at 0x13763835320>"
      ]
     },
     "metadata": {},
     "output_type": "display_data"
    }
   ],
   "source": [
    "plt.figure()\n",
    "plt.plot(a.index, a.values, \"-\", label=\"Fixed versions\")\n",
    "plt.plot(b.index, b.values, \"-\", label=\"Vulnerable versions, <1.5.4 and < 1.6.2\")\n",
    "plt.plot([pd.to_datetime(\" 2015-07-26\"), pd.to_datetime(\" 2015-07-26\")],[0, 70000], c=\"r\", label = \"CVE-2015-3225\" )\n",
    "plt.title(\"Adoption of Rack versions\")\n",
    "plt.legend()\n",
    "plt.show()\n"
   ]
  },
  {
   "cell_type": "code",
   "execution_count": 157,
   "metadata": {
    "collapsed": false
   },
   "outputs": [],
   "source": [
    "packages_using = stacked_ts[[\"project_name\", \"vulnerable_target\", \"release_ts\"]].groupby([\"project_name\", \"vulnerable_target\"]).min().reset_index()\n",
    "packages_using = packages_using.pivot( index=\"project_name\", values=\"release_ts\", columns=\"vulnerable_target\")"
   ]
  },
  {
   "cell_type": "markdown",
   "metadata": {},
   "source": [
    "## Packages using vulnerable version of Rack"
   ]
  },
  {
   "cell_type": "code",
   "execution_count": 177,
   "metadata": {
    "collapsed": false
   },
   "outputs": [
    {
     "data": {
      "text/plain": [
       "66193"
      ]
     },
     "execution_count": 177,
     "metadata": {},
     "output_type": "execute_result"
    }
   ],
   "source": [
    "packages_using[~pd.isnull(packages_using[1])].shape[0]"
   ]
  },
  {
   "cell_type": "markdown",
   "metadata": {},
   "source": [
    "## Packages using vulnerable version of Rack that upgraded to fixed version"
   ]
  },
  {
   "cell_type": "code",
   "execution_count": 181,
   "metadata": {
    "collapsed": false
   },
   "outputs": [
    {
     "data": {
      "text/plain": [
       "12608"
      ]
     },
     "execution_count": 181,
     "metadata": {},
     "output_type": "execute_result"
    }
   ],
   "source": [
    "packages_using[~pd.isnull(packages_using[1]) & (~pd.isnull(packages_using[0])) ].shape[0]"
   ]
  }
 ],
 "metadata": {
  "kernelspec": {
   "display_name": "Python [conda env:py36]",
   "language": "python",
   "name": "conda-env-py36-py"
  },
  "language_info": {
   "codemirror_mode": {
    "name": "ipython",
    "version": 3
   },
   "file_extension": ".py",
   "mimetype": "text/x-python",
   "name": "python",
   "nbconvert_exporter": "python",
   "pygments_lexer": "ipython3",
   "version": "3.6.1"
  }
 },
 "nbformat": 4,
 "nbformat_minor": 2
}
